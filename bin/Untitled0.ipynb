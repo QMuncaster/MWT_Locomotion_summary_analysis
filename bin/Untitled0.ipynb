{
 "metadata": {
  "name": "",
  "signature": "sha256:93eef9f84593e1f75177e5598df0a6ca139eb489334aa30c87f8cc25f1bab288"
 },
 "nbformat": 3,
 "nbformat_minor": 0,
 "worksheets": [
  {
   "cells": [
    {
     "cell_type": "code",
     "collapsed": false,
     "input": [
      "lines = []\n",
      "a = []\n",
      "b = []\n",
      "c = []\n",
      "e = []\n",
      "f = []\n",
      "h = []\n",
      "lines = open('test2.file').read().strip().split('\\n')"
     ],
     "language": "python",
     "metadata": {},
     "outputs": [],
     "prompt_number": 24
    },
    {
     "cell_type": "code",
     "collapsed": false,
     "input": [
      "print lines[0:5]"
     ],
     "language": "python",
     "metadata": {},
     "outputs": [
      {
       "output_type": "stream",
       "stream": "stdout",
       "text": [
        "['./20141118_141834/n2_4DayOld_locomo600s_a.00002.dat:6.446 2 1.000 NaN 0.0982 0.8949 0.107892 15.1941 28.4167', './20141118_141834/n2_4DayOld_locomo600s_a.00002.dat:6.486 2 1.000 NaN 0.0944 0.9008 0.105705 15.2006 28.4156', './20141118_141834/n2_4DayOld_locomo600s_a.00002.dat:6.525 2 1.000 NaN 0.0952 0.8834 0.104247 15.2095 28.4142', './20141118_141834/n2_4DayOld_locomo600s_a.00002.dat:6.565 2 1.000 NaN 0.0932 0.9225 0.102789 15.2164 28.4129', './20141118_141834/n2_4DayOld_locomo600s_a.00002.dat:6.606 2 1.000 NaN 0.0958 0.9007 0.104976 15.2232 28.4117']\n"
       ]
      }
     ],
     "prompt_number": 25
    },
    {
     "cell_type": "code",
     "collapsed": false,
     "input": [
      "import re\n",
      "import numpy as np\n",
      "randn = np.random.randn\n",
      "from pandas import *\n",
      "\n",
      "\n",
      "for r in lines:\n",
      "\n",
      "    M = re.search('./([0-9]{8})_([0-9]{6})/([A-Za-z]+[-]?[0-9]+)', r)\n",
      "    N = re.search(':([0-9]+[.][0-9]+)', r)\n",
      "    a = a + [M.group(1)]\n",
      "    e = M.group (1) + '_' + M.group(2)\n",
      "    b = b + [e]\n",
      "    f = f + [N.group(1)]\n",
      "    c = c + [M.group(3)]\n",
      "    h = h + [M.group(4)]\n",
      "d = {'DATE' : Series(a), 'PLATE' : Series(b), 'TIME' : Series(f), 'STRAIN' : Series(c), 'test' : Series(h)}\n",
      "df = DataFrame(d)\n",
      "print df"
     ],
     "language": "python",
     "metadata": {},
     "outputs": [
      {
       "ename": "AttributeError",
       "evalue": "'NoneType' object has no attribute 'group'",
       "output_type": "pyerr",
       "traceback": [
        "\u001b[1;31m---------------------------------------------------------------------------\u001b[0m\n\u001b[1;31mAttributeError\u001b[0m                            Traceback (most recent call last)",
        "\u001b[1;32m<ipython-input-29-3ca1ae4d99f4>\u001b[0m in \u001b[0;36m<module>\u001b[1;34m()\u001b[0m\n\u001b[0;32m      9\u001b[0m     \u001b[0mM\u001b[0m \u001b[1;33m=\u001b[0m \u001b[0mre\u001b[0m\u001b[1;33m.\u001b[0m\u001b[0msearch\u001b[0m\u001b[1;33m(\u001b[0m\u001b[1;34m'./([0-9]{8})_([0-9]{6})/([A-Za-z]+[-]?[0-9]+)([0-9])'\u001b[0m\u001b[1;33m,\u001b[0m \u001b[0mr\u001b[0m\u001b[1;33m)\u001b[0m\u001b[1;33m\u001b[0m\u001b[0m\n\u001b[0;32m     10\u001b[0m     \u001b[0mN\u001b[0m \u001b[1;33m=\u001b[0m \u001b[0mre\u001b[0m\u001b[1;33m.\u001b[0m\u001b[0msearch\u001b[0m\u001b[1;33m(\u001b[0m\u001b[1;34m':([0-9]+[.][0-9]+)'\u001b[0m\u001b[1;33m,\u001b[0m \u001b[0mr\u001b[0m\u001b[1;33m)\u001b[0m\u001b[1;33m\u001b[0m\u001b[0m\n\u001b[1;32m---> 11\u001b[1;33m     \u001b[0ma\u001b[0m \u001b[1;33m=\u001b[0m \u001b[0ma\u001b[0m \u001b[1;33m+\u001b[0m \u001b[1;33m[\u001b[0m\u001b[0mM\u001b[0m\u001b[1;33m.\u001b[0m\u001b[0mgroup\u001b[0m\u001b[1;33m(\u001b[0m\u001b[1;36m1\u001b[0m\u001b[1;33m)\u001b[0m\u001b[1;33m]\u001b[0m\u001b[1;33m\u001b[0m\u001b[0m\n\u001b[0m\u001b[0;32m     12\u001b[0m     \u001b[0me\u001b[0m \u001b[1;33m=\u001b[0m \u001b[0mM\u001b[0m\u001b[1;33m.\u001b[0m\u001b[0mgroup\u001b[0m \u001b[1;33m(\u001b[0m\u001b[1;36m1\u001b[0m\u001b[1;33m)\u001b[0m \u001b[1;33m+\u001b[0m \u001b[1;34m'_'\u001b[0m \u001b[1;33m+\u001b[0m \u001b[0mM\u001b[0m\u001b[1;33m.\u001b[0m\u001b[0mgroup\u001b[0m\u001b[1;33m(\u001b[0m\u001b[1;36m2\u001b[0m\u001b[1;33m)\u001b[0m\u001b[1;33m\u001b[0m\u001b[0m\n\u001b[0;32m     13\u001b[0m     \u001b[0mb\u001b[0m \u001b[1;33m=\u001b[0m \u001b[0mb\u001b[0m \u001b[1;33m+\u001b[0m \u001b[1;33m[\u001b[0m\u001b[0me\u001b[0m\u001b[1;33m]\u001b[0m\u001b[1;33m\u001b[0m\u001b[0m\n",
        "\u001b[1;31mAttributeError\u001b[0m: 'NoneType' object has no attribute 'group'"
       ]
      }
     ],
     "prompt_number": 29
    },
    {
     "cell_type": "code",
     "collapsed": false,
     "input": [
      "df.to_excel(\"regular.xlsx\", sheet_name='Sheet1')"
     ],
     "language": "python",
     "metadata": {},
     "outputs": [],
     "prompt_number": 5
    }
   ],
   "metadata": {}
  }
 ]
}